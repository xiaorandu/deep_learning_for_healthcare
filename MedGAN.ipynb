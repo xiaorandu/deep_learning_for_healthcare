{
  "cells": [
    {
      "cell_type": "markdown",
      "id": "069b5887",
      "metadata": {
        "deletable": false,
        "editable": false,
        "id": "069b5887",
        "nbgrader": {
          "cell_type": "markdown",
          "checksum": "a75a98671f121a252e9074ae86f876e5",
          "grade": false,
          "grade_id": "cell-e744ed1b5809a6fb",
          "locked": true,
          "schema_version": 3,
          "solution": false,
          "task": false
        }
      },
      "source": [
        "# **Medical Generative Adversarial Nets (MedGAN)**\n",
        "\n",
        "## Overview\n",
        "\n",
        "In this notebook, [MedGAN (medical generative adversarial networks)](http://proceedings.mlr.press/v68/choi17a/choi17a.pdf) is implemented. MedGAN was proposed to learn from electronic healthcare records (EHRs) and then generate synthetic EHRs. The main reason to do so is to circumvent private issues when sharing sensitive medical records to the public. The original version of MedGAN only does *unconditional* generation thus is unable to generate patient records with the specific desired property. Here a slight adaption of MedGAN is made to form a *conditional* MedGAN that is able to generate patient EHRs who are probably diagnosed with heart failure.\n"
      ]
    },
    {
      "cell_type": "markdown",
      "id": "2257e3d5",
      "metadata": {
        "deletable": false,
        "editable": false,
        "id": "2257e3d5",
        "nbgrader": {
          "cell_type": "markdown",
          "checksum": "14f613d1aec75d3a025c8b5ad6e5d9a4",
          "grade": false,
          "grade_id": "cell-c4713a38b23a9a65",
          "locked": true,
          "schema_version": 3,
          "solution": false,
          "task": false
        }
      },
      "source": [
        "## About Raw Data\n",
        "Heart failure prediction will be performed by using the diagnosis codes. The dataset is synthesized from MIMIC-III."
      ]
    },
    {
      "cell_type": "code",
      "source": [
        "from google.colab import drive\n",
        "drive.mount('/content/drive')"
      ],
      "metadata": {
        "colab": {
          "base_uri": "https://localhost:8080/"
        },
        "id": "bNhgzcOGGxgc",
        "outputId": "05e8cdd4-b68e-430c-c1c6-e067a189c561"
      },
      "id": "bNhgzcOGGxgc",
      "execution_count": 3,
      "outputs": [
        {
          "output_type": "stream",
          "name": "stdout",
          "text": [
            "Mounted at /content/drive\n"
          ]
        }
      ]
    },
    {
      "cell_type": "code",
      "execution_count": 4,
      "id": "39ed22fb",
      "metadata": {
        "deletable": false,
        "editable": false,
        "id": "39ed22fb",
        "nbgrader": {
          "cell_type": "code",
          "checksum": "787ef941c7a0aeb12e4e01694dd345b8",
          "grade": false,
          "grade_id": "cell-8a60df0209e82e03",
          "locked": true,
          "schema_version": 3,
          "solution": false,
          "task": false
        }
      },
      "outputs": [],
      "source": [
        "import os\n",
        "import pdb\n",
        "import sys\n",
        "import pickle\n",
        "import random\n",
        "import numpy as np\n",
        "import torch\n",
        "from torch import nn\n",
        "import torch.nn.functional as F\n",
        "\n",
        "seed = 123\n",
        "random.seed(seed)\n",
        "np.random.seed(seed)\n",
        "torch.manual_seed(seed)\n",
        "torch.use_deterministic_algorithms(True)\n",
        "os.environ['PYTHONASHSEED'] = str(seed)\n",
        "\n",
        "# define data set path\n",
        "DATA_PATH = \"/content/drive/My Drive/RETAIN-lib/data/\""
      ]
    },
    {
      "cell_type": "code",
      "execution_count": 5,
      "id": "886d4b9c",
      "metadata": {
        "deletable": false,
        "editable": false,
        "id": "886d4b9c",
        "nbgrader": {
          "cell_type": "code",
          "checksum": "ab7e0a5351f10adcbfc6899165cf22e7",
          "grade": false,
          "grade_id": "cell-561a0cb8fbdb04b6",
          "locked": true,
          "schema_version": 3,
          "solution": false,
          "task": false
        }
      },
      "outputs": [],
      "source": [
        "pids = pickle.load(open(os.path.join(DATA_PATH,'train/pids.pkl'), 'rb'))\n",
        "vids = pickle.load(open(os.path.join(DATA_PATH,'train/vids.pkl'), 'rb'))\n",
        "hfs = pickle.load(open(os.path.join(DATA_PATH,'train/hfs.pkl'), 'rb'))\n",
        "seqs = pickle.load(open(os.path.join(DATA_PATH,'train/seqs.pkl'), 'rb'))\n",
        "types = pickle.load(open(os.path.join(DATA_PATH,'train/types.pkl'), 'rb'))\n",
        "rtypes = pickle.load(open(os.path.join(DATA_PATH,'train/rtypes.pkl'), 'rb'))\n",
        "\n",
        "assert len(pids) == len(vids) == len(hfs) == len(seqs) == 1000\n",
        "assert len(types) == 619"
      ]
    },
    {
      "cell_type": "markdown",
      "id": "ec2a7ea9",
      "metadata": {
        "deletable": false,
        "editable": false,
        "id": "ec2a7ea9",
        "nbgrader": {
          "cell_type": "markdown",
          "checksum": "4efa4cc3f0a8fb8d4fea8f83fe9f89ca",
          "grade": false,
          "grade_id": "cell-1a40a6dc1471c660",
          "locked": true,
          "schema_version": 3,
          "solution": false,
          "task": false
        }
      },
      "source": [
        "where\n",
        "\n",
        "- `pids`: contains the patient ids\n",
        "- `vids`: contains a list of visit ids for each patient\n",
        "- `hfs`: contains the heart failure label (0: normal, 1: heart failure) for each patient\n",
        "- `seqs`: contains a list of visit (in ICD9 codes) for each patient\n",
        "- `types`: contains the map from ICD9 codes to ICD-9 labels\n",
        "- `rtypes`: contains the map from ICD9 labels to ICD9 codes\n"
      ]
    },
    {
      "cell_type": "code",
      "execution_count": 6,
      "id": "ac57b936",
      "metadata": {
        "deletable": false,
        "editable": false,
        "id": "ac57b936",
        "nbgrader": {
          "cell_type": "code",
          "checksum": "af69731be7885c4ed976910a743e54c2",
          "grade": false,
          "grade_id": "cell-f3bf22ee226282de",
          "locked": true,
          "schema_version": 3,
          "solution": false,
          "task": false
        },
        "outputId": "0678f55a-4aa2-496b-95f8-fb984a73b6ca",
        "colab": {
          "base_uri": "https://localhost:8080/"
        }
      },
      "outputs": [
        {
          "output_type": "stream",
          "name": "stdout",
          "text": [
            "number of heart failure patients: 548\n",
            "ratio of heart failure patients: 0.55\n"
          ]
        }
      ],
      "source": [
        "print(\"number of heart failure patients:\", sum(hfs))\n",
        "print(\"ratio of heart failure patients: %.2f\" % (sum(hfs) / len(hfs)))"
      ]
    },
    {
      "cell_type": "markdown",
      "id": "ace72679",
      "metadata": {
        "deletable": false,
        "editable": false,
        "id": "ace72679",
        "nbgrader": {
          "cell_type": "markdown",
          "checksum": "f988f259a45551a299afe790b2f6b712",
          "grade": false,
          "grade_id": "cell-6040b080dbe251f4",
          "locked": true,
          "schema_version": 3,
          "solution": false,
          "task": false
        }
      },
      "source": [
        "## 1 Build Dataloader\n",
        "\n",
        "### 1.1 CustomDataset\n",
        "\n",
        "First of all, let's implement a custom dataset using PyTorch class `Dataset`, which will characterize the key features of the dataset we want to generate.\n",
        "\n",
        "We will use the sequences of diagnosis codes `seqs` as input and heart failure `hfs` as output."
      ]
    },
    {
      "cell_type": "code",
      "execution_count": 7,
      "id": "a7fb9129",
      "metadata": {
        "deletable": false,
        "id": "a7fb9129"
      },
      "outputs": [],
      "source": [
        "from torch.utils.data import Dataset\n",
        "class CustomDataset(Dataset):\n",
        "    def __init__(self, seqs, hfs):\n",
        "        self.x = seqs\n",
        "        self.y = hfs\n",
        "    def __len__(self):\n",
        "        return len(self.x)\n",
        "    def __getitem__(self, index):\n",
        "        return self.x[index], self.y[index]\n",
        "\n",
        "dataset = CustomDataset(seqs, hfs)"
      ]
    },
    {
      "cell_type": "markdown",
      "id": "47b549ec",
      "metadata": {
        "deletable": false,
        "editable": false,
        "id": "47b549ec",
        "nbgrader": {
          "cell_type": "markdown",
          "checksum": "2c5ce67b8f3ecc659633ff06f955199b",
          "grade": false,
          "grade_id": "cell-01c84d91d41635bc",
          "locked": true,
          "schema_version": 3,
          "solution": false,
          "task": false
        }
      },
      "source": [
        "### 1.2 Data Collator\n",
        "\n",
        "\n"
      ]
    },
    {
      "cell_type": "code",
      "execution_count": 8,
      "id": "e688ba65",
      "metadata": {
        "deletable": false,
        "id": "e688ba65"
      },
      "outputs": [],
      "source": [
        "class Collator:\n",
        "    def __init__(self, total_number_of_codes):\n",
        "        self.max_num_codes = total_number_of_codes\n",
        "\n",
        "    def __call__(self, data):\n",
        "        ''' flatten the input sequence samples into a multi-hot diagnosis codes,\n",
        "            data: a list of samples fetched from 'CustomDataset'\n",
        "\n",
        "        Outputs:\n",
        "            x: a tensor of shape (# patients, max # diagnosis codes) with torch.float\n",
        "            y: a tensor of shape (# patients, ) with type torch.float\n",
        "        '''\n",
        "        sequences, labels = zip(*data)\n",
        "        num_patients = len(sequences)\n",
        "        max_num_codes =  self.max_num_codes\n",
        "        y = torch.tensor(labels, dtype=torch.float)\n",
        "        x = torch.zeros((num_patients, max_num_codes), dtype=torch.float)\n",
        "\n",
        "        for i_patient, patient in enumerate(sequences):\n",
        "            unique_codes = set()\n",
        "            for visit in patient:\n",
        "                unique_codes.update(set(visit))\n",
        "            for code in unique_codes:\n",
        "                x[i_patient, code] = 1.0\n",
        "        return x, y\n",
        "\n",
        "collate_fn = Collator(len(types))"
      ]
    },
    {
      "cell_type": "markdown",
      "id": "c0442ba2",
      "metadata": {
        "deletable": false,
        "editable": false,
        "id": "c0442ba2",
        "nbgrader": {
          "cell_type": "markdown",
          "checksum": "864052025af1cc47c62e867c64286f00",
          "grade": false,
          "grade_id": "cell-ff7d63b0fbe55ce0",
          "locked": true,
          "schema_version": 3,
          "solution": false,
          "task": false
        }
      },
      "source": [
        "## 2 Naive AutoEncoder\n",
        "\n",
        "A naive AutoEncoder is implemented as done in original MedGAN. The first stage is to learn an AutoEncoder by taking reconstruction of the input $x$ by predicting $\\hat{x}$.\n",
        "\n",
        "As done in `Dataset` and `DataLoader`, the input $x$ is a binary vector with size (batch_size, # diag codes).\n",
        "\n",
        "We can make a simple encoder with one hidden linear layer `nn.Linear` by transforming $x$ to representations $h$ with size (batch size, hidden dimension). Then, we make a decoder also with one hidden linear layer `nn.Linear` by transforming $h$ to $\\hat{x}$ with the same size as $x$.\n",
        "\n",
        "We will take `nn.Sigmoid` as the prediction activation to map logits $\\hat{x}$ to $[0,1]$.\n",
        "\n",
        "The detailed model architecture is shown in the table below.\n",
        "\n",
        "Layers | Configuration | Activation Function | Output Dimension (batch, feature)\n",
        "--- | --- | --- | ---\n",
        "fully connected | input size **input_dim**, output size **hidden_dim** | Tanh | (batch_size, hidden_dim)\n",
        "fully connected | input size **hidden_dim**, output size **input_dim** | Sigmoid | (batch_size, input_dim)"
      ]
    },
    {
      "cell_type": "code",
      "source": [
        "from IPython.display import Image, display\n",
        "display(Image(filename=\"/content/drive/MyDrive/RETAIN-lib/img/medgan.png\"))"
      ],
      "metadata": {
        "colab": {
          "base_uri": "https://localhost:8080/",
          "height": 768
        },
        "id": "K3C9vUi7H16V",
        "outputId": "9393596c-bce6-4e62-beef-b4bacdf975e8"
      },
      "id": "K3C9vUi7H16V",
      "execution_count": 10,
      "outputs": [
        {
          "output_type": "display_data",
          "data": {
            "image/png": "[encoded data removed]",
            "text/plain": [
              "<IPython.core.display.Image object>"
            ]
          },
          "metadata": {}
        }
      ]
    },
    {
      "cell_type": "markdown",
      "id": "08e4c43a",
      "metadata": {
        "deletable": false,
        "editable": false,
        "id": "08e4c43a",
        "nbgrader": {
          "cell_type": "markdown",
          "checksum": "67c5e49a0a56395bc8f0727b43918681",
          "grade": false,
          "grade_id": "cell-1e79a2a9fc351d91",
          "locked": true,
          "schema_version": 3,
          "solution": false,
          "task": false
        }
      },
      "source": [
        "### 2.1 Build the AutoEncoder model"
      ]
    },
    {
      "cell_type": "code",
      "execution_count": 12,
      "id": "34ad6e08",
      "metadata": {
        "deletable": false,
        "id": "34ad6e08"
      },
      "outputs": [],
      "source": [
        "class AutoEncoder(nn.Module):\n",
        "    def __init__(self, input_dim, hidden_dim):\n",
        "        '''\n",
        "        initialize an auto-encoder\n",
        "        self.encoder: linear - tanh activation\n",
        "        self.decoder: linear - sigmoid activation\n",
        "        '''\n",
        "        super().__init__()\n",
        "        self.encoder = nn.Sequential(\n",
        "            nn.Linear(input_dim, hidden_dim),\n",
        "            nn.Tanh()\n",
        "        )\n",
        "        self.decoder = nn.Sequential(\n",
        "            nn.Linear(hidden_dim, input_dim),\n",
        "            nn.Sigmoid()\n",
        "        )\n",
        "\n",
        "    def encode(self, x):\n",
        "        '''\n",
        "        take the input patient records, encode them into hidden representations\n",
        "        using the encoder.\n",
        "        Arguments:\n",
        "            x: the patient records with shape (batch_size, max # diagnosis codes)\n",
        "        Outputs:\n",
        "            h: the encoded representations with shape (batch_size, hidden_dim)\n",
        "        '''\n",
        "        h = self.encoder(x)\n",
        "        return h\n",
        "\n",
        "    def decode(self, h):\n",
        "        '''\n",
        "        take the input hidden representations, output the reconstructed patient records\n",
        "        using the decoder.\n",
        "        Arguments:\n",
        "            h: the encoded representations with shape (batch_size, hidden_dim)\n",
        "        Outputs:\n",
        "            x: the patient records with shape (batch_size, max # diagnosis codes)\n",
        "        '''\n",
        "        x = self.decoder(h)\n",
        "        return x\n",
        "\n",
        "    def forward(self, x):\n",
        "        '''\n",
        "        call the self.encode and self.decode and finally output the reconstructed input x.\n",
        "        Arguments:\n",
        "            x: the patient records with shape (batch_size, max # diagnosis codes)\n",
        "        Outputs:\n",
        "            x: the reconstructed patient records with shape (batch_size, max # diagnosis codes)\n",
        "        '''\n",
        "        h = self.encode(x)\n",
        "        x = self.decode(h)\n",
        "        return x\n",
        "\n",
        "model = AutoEncoder(1000, 256)"
      ]
    },
    {
      "cell_type": "markdown",
      "id": "d3741a00",
      "metadata": {
        "deletable": false,
        "editable": false,
        "id": "d3741a00",
        "nbgrader": {
          "cell_type": "markdown",
          "checksum": "d3002e0cf155587fff491f0a1012ecaa",
          "grade": false,
          "grade_id": "cell-b1d786283dde095a",
          "locked": true,
          "schema_version": 3,
          "solution": false,
          "task": false
        }
      },
      "source": [
        "### 2.2 Train the AutoEncoder model\n",
        "\n",
        "With the built AE model at hand, it is easy to follow the common practice to train AE using reconstruction loss.\n",
        "\n",
        "Let's make use of the completed `CustomDataset`, `Collator`, and `AutoEncoder` to achieve this!"
      ]
    },
    {
      "cell_type": "code",
      "execution_count": 14,
      "id": "673dbe2f",
      "metadata": {
        "deletable": false,
        "id": "673dbe2f",
        "outputId": "6967fc96-a07e-4f66-b47f-dd8eaeafd7f6",
        "colab": {
          "base_uri": "https://localhost:8080/",
          "height": 1000
        }
      },
      "outputs": [
        {
          "output_type": "stream",
          "name": "stdout",
          "text": [
            "epoch 0 training autoencoer loss 5.23966783285141\n",
            "epoch 1 training autoencoer loss 3.7646305561065674\n",
            "epoch 2 training autoencoer loss 2.073987528681755\n",
            "epoch 3 training autoencoer loss 1.2772767841815948\n",
            "epoch 4 training autoencoer loss 1.0477388575673103\n",
            "epoch 5 training autoencoer loss 0.9761749058961868\n",
            "epoch 6 training autoencoer loss 0.9438871741294861\n",
            "epoch 7 training autoencoer loss 0.9221657738089561\n",
            "epoch 8 training autoencoer loss 0.9060243964195251\n",
            "epoch 9 training autoencoer loss 0.8926374763250351\n",
            "epoch 10 training autoencoer loss 0.880375012755394\n",
            "epoch 11 training autoencoer loss 0.868371419608593\n",
            "epoch 12 training autoencoer loss 0.8563124239444733\n",
            "epoch 13 training autoencoer loss 0.8441486582159996\n",
            "epoch 14 training autoencoer loss 0.831887811422348\n",
            "epoch 15 training autoencoer loss 0.8195740878582001\n",
            "epoch 16 training autoencoer loss 0.8072590529918671\n",
            "epoch 17 training autoencoer loss 0.7949887216091156\n",
            "epoch 18 training autoencoer loss 0.7828104794025421\n",
            "epoch 19 training autoencoer loss 0.7707448378205299\n",
            "epoch 20 training autoencoer loss 0.7588010281324387\n",
            "epoch 21 training autoencoer loss 0.7469842359423637\n",
            "epoch 22 training autoencoer loss 0.7353011146187782\n",
            "epoch 23 training autoencoer loss 0.7237656563520432\n",
            "epoch 24 training autoencoer loss 0.7124010846018791\n",
            "epoch 25 training autoencoer loss 0.7012400105595589\n",
            "epoch 26 training autoencoer loss 0.6903190091252327\n",
            "epoch 27 training autoencoer loss 0.6796702519059181\n",
            "epoch 28 training autoencoer loss 0.6693162843585014\n",
            "epoch 29 training autoencoer loss 0.6592694893479347\n",
            "epoch 30 training autoencoer loss 0.6495340019464493\n",
            "epoch 31 training autoencoer loss 0.640107735991478\n",
            "epoch 32 training autoencoer loss 0.6309835687279701\n",
            "epoch 33 training autoencoer loss 0.6221503168344498\n",
            "epoch 34 training autoencoer loss 0.6135936304926872\n",
            "epoch 35 training autoencoer loss 0.6052968874573708\n",
            "epoch 36 training autoencoer loss 0.5972423106431961\n",
            "epoch 37 training autoencoer loss 0.5894115343689919\n",
            "epoch 38 training autoencoer loss 0.5817867144942284\n",
            "epoch 39 training autoencoer loss 0.5743506923317909\n",
            "epoch 40 training autoencoer loss 0.5670871436595917\n",
            "epoch 41 training autoencoer loss 0.5599806159734726\n",
            "epoch 42 training autoencoer loss 0.553016409277916\n",
            "epoch 43 training autoencoer loss 0.5461804196238518\n",
            "epoch 44 training autoencoer loss 0.5394592061638832\n",
            "epoch 45 training autoencoer loss 0.5328400954604149\n",
            "epoch 46 training autoencoer loss 0.5263112783432007\n",
            "epoch 47 training autoencoer loss 0.5198617316782475\n",
            "epoch 48 training autoencoer loss 0.5134816393256187\n",
            "epoch 49 training autoencoer loss 0.5071620605885983\n"
          ]
        },
        {
          "output_type": "display_data",
          "data": {
            "text/plain": [
              "<Figure size 640x480 with 1 Axes>"
            ],
            "image/png": "[encoded data removed]"
          },
          "metadata": {}
        }
      ],
      "source": [
        "'''\n",
        "Define the optimizer (Adam) with learning rate 1e-3.\n",
        "Define the loss_fn (loss function, nn.BCELoss).\n",
        "Do the training in each iteration by\n",
        "- forward ae model to get x_hat\n",
        "- compute reconstruction loss\n",
        "- call loss.backward\n",
        "- update parameters using optimizer.step\n",
        "'''\n",
        "\n",
        "from torch.utils.data import DataLoader\n",
        "dataset = CustomDataset(seqs, hfs)\n",
        "collate_fn = Collator(len(types))\n",
        "dataloader = DataLoader(dataset, batch_size=128, collate_fn=collate_fn)\n",
        "ae = AutoEncoder(input_dim=len(types), hidden_dim=256)\n",
        "\n",
        "optimizer, loss_fn = torch.optim.Adam(ae.parameters(), lr=1e-3), nn.BCELoss()\n",
        "\n",
        "loss_list = []\n",
        "for epoch in range(50):\n",
        "    epoch_loss = 0\n",
        "    for (x,y) in dataloader:\n",
        "        optimizer.zero_grad()\n",
        "        x_hat = ae(x) # Forward pass to get the reconstructed data\n",
        "        loss = loss_fn(x_hat, x) # Compute the reconstruction loss\n",
        "        loss.backward()  # Compute gradient of the loss with respect to parameters\n",
        "        optimizer.step()  # Update parameters with gradients\n",
        "        epoch_loss += loss.item()\n",
        "    loss_list.append(epoch_loss)\n",
        "    print(f'epoch {epoch} training autoencoer loss {epoch_loss}')\n",
        "\n",
        "import matplotlib.pyplot as plt\n",
        "plt.plot(loss_list, label='autoencoder loss')\n",
        "plt.xlabel('epoch')\n",
        "plt.title('AE loss during training')\n",
        "plt.legend()\n",
        "plt.show()"
      ]
    },
    {
      "cell_type": "markdown",
      "id": "9f19550e",
      "metadata": {
        "deletable": false,
        "editable": false,
        "id": "9f19550e",
        "nbgrader": {
          "cell_type": "markdown",
          "checksum": "152659c96c159f7afe01287b9f638755",
          "grade": false,
          "grade_id": "cell-51b06809badd8dba",
          "locked": true,
          "schema_version": 3,
          "solution": false,
          "task": false
        }
      },
      "source": [
        "## 3 MedGAN"
      ]
    },
    {
      "cell_type": "markdown",
      "id": "ea3ba920",
      "metadata": {
        "deletable": false,
        "editable": false,
        "id": "ea3ba920",
        "nbgrader": {
          "cell_type": "markdown",
          "checksum": "3ebc581349b3038feb96002c55879349",
          "grade": false,
          "grade_id": "cell-4aa1db90b8f5a0bc",
          "locked": true,
          "schema_version": 3,
          "solution": false,
          "task": false
        }
      },
      "source": [
        "### 3.1 Build the Generator and Discrminator [30 points]\n",
        "\n",
        "Next, we will construct the generator and discriminator of the MedGAN model.\n",
        "\n",
        "Note that we take a conditional GAN here, the input of generator should be the concatenation of $z$ vector and the condition $y$. Meanwhile, the input of discriminator is the concatenation of $x$ vector and the condition $y$.\n",
        "\n",
        "<img src=\"img/conditional-gan.png\" width=\"400\"/>\n",
        "\n",
        "This figure is drawn from the paper [Conditional Generative Adversarial Nets](https://arxiv.org/pdf/1411.1784.pdf). In our case, the condition $y$ is a value in $\\{0,1\\}$ indicating whether the patient has heart failure or not.\n",
        "\n",
        "\n",
        "The architecture details are as follows.\n",
        "\n",
        "**Generator**\n",
        "\n",
        "Layers | Configuration | Activation Function | Output Dimension (batch, feature)\n",
        "--- | --- | --- | ---\n",
        "batchnorm1d | - | - | (batch_size, input_dim)\n",
        "ReLU | - | - |  (batch_size, input_dim)\n",
        "fully connected | input size **input_dim**, output size **hidden_dim** | - | (batch_size, hidden_dim)\n",
        "batchnorm1d | - | - | (batch_size, hidden_dim)\n",
        "Tanh | - | - |  (batch_size, hidden_dim)\n",
        "fully connected | input size **hidden_dim**, output size **hidden_dim** | - | (batch_size, hidden_dim)\n",
        "\n",
        "\n",
        "**Discrminator**\n",
        "\n",
        "Layers | Configuration | Activation Function | Output Dimension (batch, feature)\n",
        "--- | --- | --- | ---\n",
        "fully connected | input size **input_dim**, output size **hidden_dim** | - | (batch_size, hidden_dim)\n",
        "ReLU | - | - |  (batch_size, input_dim)\n",
        "fully connected | input size **hidden_dim**, output size **1** | - | (batch_size, 1)\n",
        "Sigmoid | - | - |  (batch_size, 1)"
      ]
    },
    {
      "cell_type": "code",
      "execution_count": 16,
      "id": "e4343c4e",
      "metadata": {
        "deletable": false,
        "id": "e4343c4e"
      },
      "outputs": [],
      "source": [
        "class Generator(nn.Module):\n",
        "    def __init__(self, input_dim, hidden_dim):\n",
        "        '''input records and labels for conditional generation\n",
        "        '''\n",
        "        super().__init__()\n",
        "        # DO NOT change the names\n",
        "        self.linear1 = nn.Linear(input_dim, hidden_dim)\n",
        "        self.bn1 = nn.BatchNorm1d(input_dim)\n",
        "        self.act1 = nn.ReLU()\n",
        "        self.linear2 = nn.Linear(hidden_dim, hidden_dim)\n",
        "        self.bn2 = nn.BatchNorm1d(hidden_dim)\n",
        "        self.act2 = nn.Tanh()\n",
        "\n",
        "    def forward(self, z, y):\n",
        "        '''\n",
        "        Arguments:\n",
        "            z: input random noise with shape (n, hidden_dim)\n",
        "            y: input conditional y with shape (n,)\n",
        "        Outputs:\n",
        "            h: the generated representation h with shape (n, hidden_dim)\n",
        "\n",
        "        take the defined components to do forward inference.\n",
        "        take the *residual connection* for each layer as described in MedGAN paper,\n",
        "        i.e., (z,y) -> tmp -> layer1(bn1+act1+linear1) -> h -> h = h + z -> bn2 -> z ->\n",
        "        layer2(act2+linear2) -> h -> h = h+z\n",
        "\n",
        "        '''\n",
        "        tmp = torch.cat([z, y[:,None]], 1)\n",
        "        h = self.linear1(self.act1(self.bn1(tmp)))\n",
        "        h += z\n",
        "        z = self.bn2(h)\n",
        "        h = self.linear2(self.act2(z))\n",
        "        h += z\n",
        "        return h\n",
        "class Discriminator(nn.Module):\n",
        "    def __init__(self, input_dim, hidden_dim):\n",
        "        '''input records and labels for conditional discrimination\n",
        "        '''\n",
        "        super().__init__()\n",
        "        self.linear1 = nn.Linear(input_dim, hidden_dim)\n",
        "        self.act1 = nn.ReLU()\n",
        "        self.linear2 = nn.Linear(hidden_dim, 1)\n",
        "        self.act2 = nn.Sigmoid()\n",
        "    def forward(self, x, y):\n",
        "        '''\n",
        "        Arguments:\n",
        "            x: input records with shape (n, input_dim)\n",
        "            y: input conditional labels with shape (n,)\n",
        "        Outputs:\n",
        "            out: the predicted probability if input x is real or fake samples in shape (n,)\n",
        "        '''\n",
        "        x = torch.cat([x, y[:,None]], axis=1)\n",
        "        out = self.act1(self.linear1(x))\n",
        "        out = self.act2(self.linear2(out))\n",
        "        return out.squeeze(1)\n",
        "\n",
        "generator = Generator(100, 99)\n",
        "discriminator = Discriminator(100, 10)"
      ]
    },
    {
      "cell_type": "markdown",
      "id": "730ebe05",
      "metadata": {
        "deletable": false,
        "editable": false,
        "id": "730ebe05",
        "nbgrader": {
          "cell_type": "markdown",
          "checksum": "b67dea885373f4f525317211a9bbe863",
          "grade": false,
          "grade_id": "cell-15f5918ff6d92342",
          "locked": true,
          "schema_version": 3,
          "solution": false,
          "task": false
        }
      },
      "source": [
        "### 3.2 Build the MedGAN model\n",
        "\n",
        "Now, finally we come to build our conditional MedGAN with all completed components: AutoEncoder, Generator, Discriminator.\n",
        "\n",
        "In the MedGAN training phase, only the `decoder` of the AutoEncoder model will be used to decode the outputs of the `generator`.\n",
        "\n",
        "Also, we need a `generate` function for `MedGAN` such that it is able to generate fake samples for `discriminator` to classify.\n",
        "\n",
        "In the `forward` function, we need to implement the compution for discriminator and generator loss.\n",
        "\n",
        "$\\ell_{d}= - \\frac1m \\sum_{i=1}^m [log (D(x_i)+\\epsilon) + \\log (1-D(\\hat{x}_i)+\\epsilon)]$\n",
        "\n",
        "$\\ell_{g}= - \\frac1m \\sum_{i=1}^m log (D(\\hat{x}_i)+\\epsilon)$\n",
        "\n",
        "where $x_i$ is the real record and $\\hat{x}_i$ is the fake record generated by generator;\n",
        "\n",
        "$\\epsilon$ is added to avoid numerical issue in the $log$ function.\n"
      ]
    },
    {
      "cell_type": "code",
      "execution_count": 19,
      "id": "bec658d5",
      "metadata": {
        "deletable": false,
        "id": "bec658d5"
      },
      "outputs": [],
      "source": [
        "class MedGAN(nn.Module):\n",
        "    def __init__(self, input_dim, hidden_dim):\n",
        "        '''The main class for MedGAN model. It consists of three parts:\n",
        "        AutoEncoder\n",
        "        Generator\n",
        "        Discriminator\n",
        "        '''\n",
        "        super().__init__()\n",
        "        self.input_dim = input_dim\n",
        "        self.hidden_dim = hidden_dim\n",
        "\n",
        "        self.ae = AutoEncoder(input_dim, hidden_dim)\n",
        "        self.generator = Generator(hidden_dim + 1, hidden_dim) # input random noise/representation + label\n",
        "        self.discriminator = Discriminator(input_dim + 1, hidden_dim) # input records + label\n",
        "\n",
        "    def generate(self, n, y):\n",
        "        '''\n",
        "        Arguments:\n",
        "            n: number of fake samples to be generated\n",
        "            y: the condition label used to make conditional generation\n",
        "        Outputs:\n",
        "            x: the generated fake samples with shape (n, self.input_dim)\n",
        "\n",
        "        Generate n fake samples using the generator.\n",
        "        First, sample a random vector z using torch.randn with size (n, self.hidden_dim).\n",
        "        Then, generate the fake encoded representations h using z and y as inputs for self.generator .\n",
        "        Last, generate the fake example x using self.ae.decode function.\n",
        "        '''\n",
        "        z = torch.randn(n, self.hidden_dim)\n",
        "        h = self.generator(z, y)\n",
        "        x = self.ae.decode(h)\n",
        "\n",
        "        return x\n",
        "\n",
        "    def forward(self, x, y):\n",
        "        '''Take the input x and conditional y, compute the discriminator loss and generator loss\n",
        "        Arguments:\n",
        "            x: input records with shape (n, self.input_dim)\n",
        "            y: input labels with shape (n,)\n",
        "        Outputs:\n",
        "            d_loss: discriminator loss values\n",
        "            g_loss: generator loss values\n",
        "\n",
        "        Implement the prediction of fake or real examples using self.discriminator.\n",
        "        Then, compute the discriminator loss and generator loss.\n",
        "        '''\n",
        "        x_fake = self.generate(len(x), y)\n",
        "\n",
        "        real_score = self.discriminator(x, y)\n",
        "        fake_score = self.discriminator(x_fake, y)\n",
        "\n",
        "        epsilon = 1e-8\n",
        "        d_loss = -torch.mean(torch.log(real_score + epsilon) + torch.log(1 - fake_score + epsilon))\n",
        "        g_loss = -torch.mean(torch.log(fake_score + epsilon))\n",
        "\n",
        "        return g_loss, d_loss\n",
        "\n",
        "medgan = MedGAN(100, 128)"
      ]
    },
    {
      "cell_type": "markdown",
      "id": "f8c17309",
      "metadata": {
        "deletable": false,
        "editable": false,
        "id": "f8c17309",
        "nbgrader": {
          "cell_type": "markdown",
          "checksum": "c8af56ea9d12034d1626c5b6510006ae",
          "grade": false,
          "grade_id": "cell-482da0fbeffcad29",
          "locked": true,
          "schema_version": 3,
          "solution": false,
          "task": false
        }
      },
      "source": [
        "### 3.3 Build optimizers for MedGAN\n",
        "Now we turn to build optimizers for MedGAN. Note that GAN model trains generator and discriminator in an adversarial paradigm, we need to split their parameters when designing optimizers.\n"
      ]
    },
    {
      "cell_type": "code",
      "execution_count": 21,
      "id": "dd5f780b",
      "metadata": {
        "deletable": false,
        "id": "dd5f780b"
      },
      "outputs": [],
      "source": [
        "def build_optimizer(medgan):\n",
        "    '''build two separate optimizers for the generator and discriminator, respectively.\n",
        "\n",
        "    add params which belong to AutoEncoder and Generator to g_param_list;\n",
        "    add params which belong to discriminator to d_param_list.\n",
        "    '''\n",
        "    g_param_list, d_param_list = [], []\n",
        "    for name, param in medgan.named_parameters():\n",
        "        if 'discriminator' in name:\n",
        "            d_param_list.append(param)\n",
        "        else:\n",
        "            g_param_list.append(param)\n",
        "    g_optimizer = torch.optim.Adam(g_param_list, lr=1e-4)\n",
        "    d_optimizer = torch.optim.Adam(d_param_list, lr=1e-4)\n",
        "    return g_optimizer, d_optimizer"
      ]
    },
    {
      "cell_type": "markdown",
      "id": "b22cd36e",
      "metadata": {
        "deletable": false,
        "editable": false,
        "id": "b22cd36e",
        "nbgrader": {
          "cell_type": "markdown",
          "checksum": "9ef25a70e0a1d69207af6f8dca690378",
          "grade": false,
          "grade_id": "cell-2cc9dd019a216589",
          "locked": true,
          "schema_version": 3,
          "solution": false,
          "task": false
        }
      },
      "source": [
        "### 3.4 Train MedGAN and generate synthetic records\n",
        "\n",
        "Finally, train the MedGAN model and use it to generate synthetic records we want."
      ]
    },
    {
      "cell_type": "code",
      "execution_count": 22,
      "id": "ef4b46b5",
      "metadata": {
        "deletable": false,
        "id": "ef4b46b5",
        "outputId": "be11aaf7-c2b8-4d1f-b833-e760cd0b62f3",
        "colab": {
          "base_uri": "https://localhost:8080/"
        }
      },
      "outputs": [
        {
          "output_type": "stream",
          "name": "stdout",
          "text": [
            "Epoch 0 Generator loss 14.942980885505676 Discriminator loss 10.095545411109924\n",
            "Epoch 1 Generator loss 25.29406499862671 Discriminator loss 7.818586945533752\n",
            "Epoch 2 Generator loss 35.529311299324036 Discriminator loss 6.746001720428467\n",
            "Epoch 3 Generator loss 43.55790185928345 Discriminator loss 6.207983613014221\n",
            "Epoch 4 Generator loss 48.889084577560425 Discriminator loss 5.844813346862793\n",
            "Epoch 5 Generator loss 51.772942543029785 Discriminator loss 5.578364670276642\n",
            "Epoch 6 Generator loss 53.251140117645264 Discriminator loss 5.346174955368042\n",
            "Epoch 7 Generator loss 53.72038745880127 Discriminator loss 5.174263060092926\n",
            "Epoch 8 Generator loss 53.19954705238342 Discriminator loss 5.039412975311279\n",
            "Epoch 9 Generator loss 52.466334104537964 Discriminator loss 4.965331196784973\n",
            "Epoch 10 Generator loss 51.827290296554565 Discriminator loss 4.963357627391815\n",
            "Epoch 11 Generator loss 51.01087927818298 Discriminator loss 5.119285941123962\n",
            "Epoch 12 Generator loss 49.35841155052185 Discriminator loss 5.275768876075745\n",
            "Epoch 13 Generator loss 48.48346400260925 Discriminator loss 5.639353930950165\n",
            "Epoch 14 Generator loss 46.77897381782532 Discriminator loss 6.016874611377716\n",
            "Epoch 15 Generator loss 46.26108002662659 Discriminator loss 6.361218571662903\n",
            "Epoch 16 Generator loss 42.86747670173645 Discriminator loss 6.845708012580872\n",
            "Epoch 17 Generator loss 39.94164752960205 Discriminator loss 7.365139126777649\n",
            "Epoch 18 Generator loss 38.156986951828 Discriminator loss 7.861919283866882\n",
            "Epoch 19 Generator loss 35.80694651603699 Discriminator loss 8.19863760471344\n",
            "Epoch 20 Generator loss 32.86561322212219 Discriminator loss 8.58061969280243\n",
            "Epoch 21 Generator loss 30.47728669643402 Discriminator loss 8.934582471847534\n",
            "Epoch 22 Generator loss 27.848932147026062 Discriminator loss 9.24454414844513\n",
            "Epoch 23 Generator loss 26.214778304100037 Discriminator loss 9.373462319374084\n",
            "Epoch 24 Generator loss 25.028228163719177 Discriminator loss 9.535704374313354\n",
            "Epoch 25 Generator loss 22.90213370323181 Discriminator loss 9.590374231338501\n",
            "Epoch 26 Generator loss 22.40811550617218 Discriminator loss 9.703125238418579\n",
            "Epoch 27 Generator loss 20.594571590423584 Discriminator loss 9.738939642906189\n",
            "Epoch 28 Generator loss 18.90322458744049 Discriminator loss 9.837053775787354\n",
            "Epoch 29 Generator loss 18.660114288330078 Discriminator loss 9.916223526000977\n",
            "Epoch 30 Generator loss 17.399305522441864 Discriminator loss 10.008485436439514\n",
            "Epoch 31 Generator loss 16.919128894805908 Discriminator loss 10.07613754272461\n",
            "Epoch 32 Generator loss 15.952769458293915 Discriminator loss 10.184015393257141\n",
            "Epoch 33 Generator loss 15.320765137672424 Discriminator loss 10.303607106208801\n",
            "Epoch 34 Generator loss 15.397518754005432 Discriminator loss 10.332125425338745\n",
            "Epoch 35 Generator loss 14.90112018585205 Discriminator loss 10.445225596427917\n",
            "Epoch 36 Generator loss 14.875566601753235 Discriminator loss 10.325757384300232\n",
            "Epoch 37 Generator loss 15.431573927402496 Discriminator loss 10.242478728294373\n",
            "Epoch 38 Generator loss 15.448274552822113 Discriminator loss 10.12169098854065\n",
            "Epoch 39 Generator loss 14.935935020446777 Discriminator loss 10.1094890832901\n"
          ]
        }
      ],
      "source": [
        "# build dataloader\n",
        "from torch.utils.data import DataLoader\n",
        "dataset = CustomDataset(seqs, hfs)\n",
        "collate_fn = Collator(len(types))\n",
        "dataloader = DataLoader(dataset, batch_size=128, collate_fn=collate_fn)\n",
        "\n",
        "# build model\n",
        "medgan = MedGAN(input_dim=len(types), hidden_dim=256)\n",
        "\n",
        "# apply the pretrained ae model to medgan autoencoder model\n",
        "medgan.ae.load_state_dict(ae.state_dict())\n",
        "\n",
        "# build optimizer for generator and discriminator, respectively\n",
        "g_opt, d_opt = build_optimizer(medgan)\n",
        "\n",
        "n_epochs = 40\n",
        "d_train_period = 1\n",
        "g_train_period = 2\n",
        "\n",
        "g_loss_list, d_loss_list = [], []\n",
        "for epoch in range(n_epochs):\n",
        "    medgan.train()\n",
        "    g_loss_all, d_loss_all = 0, 0\n",
        "    for (x,y) in dataloader:\n",
        "        for _ in range(d_train_period):\n",
        "            d_opt.zero_grad()  # Zero the gradients of the discriminator\n",
        "            g_loss, d_loss = medgan(x, y)  # Forward pass through MedGAN\n",
        "            d_loss.backward()  # Backpropagate the discriminator loss\n",
        "            d_opt.step()  # Update the discriminator parameters\n",
        "            d_loss_all += d_loss.item()\n",
        "\n",
        "        for _ in range(g_train_period):\n",
        "            g_opt.zero_grad()\n",
        "            g_loss, _ = medgan(x, y)\n",
        "            g_loss.backward()\n",
        "            g_opt.step()\n",
        "            g_loss_all += g_loss.item()\n",
        "\n",
        "    g_loss_list.append(g_loss_all)\n",
        "    d_loss_list.append(d_loss_all)\n",
        "    print(f'Epoch {epoch} Generator loss {g_loss_all} Discriminator loss {d_loss_all}')"
      ]
    },
    {
      "cell_type": "code",
      "execution_count": 23,
      "id": "e109379a",
      "metadata": {
        "deletable": false,
        "editable": false,
        "id": "e109379a",
        "nbgrader": {
          "cell_type": "code",
          "checksum": "0a922433d80b80d29915d9447d718a2b",
          "grade": false,
          "grade_id": "cell-3363811214e80e72",
          "locked": true,
          "schema_version": 3,
          "solution": false,
          "task": false
        },
        "outputId": "2d79dcc4-0785-46eb-a5a5-92e6364598c5",
        "colab": {
          "base_uri": "https://localhost:8080/",
          "height": 472
        }
      },
      "outputs": [
        {
          "output_type": "display_data",
          "data": {
            "text/plain": [
              "<Figure size 640x480 with 1 Axes>"
            ],
            "image/png": "[encoded data removed]"
          },
          "metadata": {}
        }
      ],
      "source": [
        "import matplotlib.pyplot as plt\n",
        "plt.plot(g_loss_list, label='generator loss')\n",
        "plt.plot(d_loss_list, label='discriminator loss')\n",
        "plt.xlabel('epoch')\n",
        "plt.title('GAN loss during training')\n",
        "plt.legend()\n",
        "plt.show()"
      ]
    },
    {
      "cell_type": "markdown",
      "id": "969fdcb7",
      "metadata": {
        "deletable": false,
        "editable": false,
        "id": "969fdcb7",
        "nbgrader": {
          "cell_type": "markdown",
          "checksum": "fe7a45ed46f06603c6629ab4f1595fac",
          "grade": false,
          "grade_id": "cell-c527e3cd9e753b7e",
          "locked": true,
          "schema_version": 3,
          "solution": false,
          "task": false
        }
      },
      "source": [
        "To verify if our MedGAN is able to do conditional generation, we design an experiment like:\n",
        "\n",
        "- Train a heart failure classifier on the real EHRs record from which MedGAN learns.\n",
        "- Use the trained MedGAN to generate synthetic records with given condition in $\\{0,1\\}$\n",
        "- Use the trained classifier to make predictions on synthetic records to see if the predicted outcomes match the given condition.\n",
        "\n",
        "If the predicted outcome matches the given condition well, our MedGAN does a great job because it succeeds to produce records which are fit to the given condition. Let's start!"
      ]
    },
    {
      "cell_type": "code",
      "execution_count": 24,
      "id": "df432b66",
      "metadata": {
        "deletable": false,
        "editable": false,
        "id": "df432b66",
        "nbgrader": {
          "cell_type": "code",
          "checksum": "1cce383d077b60abe4efb1d992be294c",
          "grade": false,
          "grade_id": "cell-7f578e67ed15392f",
          "locked": true,
          "schema_version": 3,
          "solution": false,
          "task": false
        },
        "outputId": "5ed4160e-3afe-49fe-cbb9-5bf6bbec9c7e",
        "colab": {
          "base_uri": "https://localhost:8080/"
        }
      },
      "outputs": [
        {
          "output_type": "stream",
          "name": "stdout",
          "text": [
            "epoch 0 training classifier loss 9.389822453260422\n",
            "epoch 1 training classifier loss 6.31385800242424\n",
            "epoch 2 training classifier loss 4.873824328184128\n",
            "epoch 3 training classifier loss 3.694623664021492\n",
            "epoch 4 training classifier loss 2.6869661137461662\n",
            "epoch 5 training classifier loss 1.9123459309339523\n",
            "epoch 6 training classifier loss 1.3512766174972057\n",
            "epoch 7 training classifier loss 0.9650243707001209\n",
            "epoch 8 training classifier loss 0.7074727639555931\n",
            "epoch 9 training classifier loss 0.5319214127957821\n"
          ]
        }
      ],
      "source": [
        "# train a classifier on the real records so we can classify if one patient record belongs to heart failure case\n",
        "class Classifier(nn.Module):\n",
        "    def __init__(self, input_dim, hidden_dim):\n",
        "        super().__init__()\n",
        "        self.clf = nn.Sequential(\n",
        "            nn.Linear(input_dim, hidden_dim),\n",
        "            nn.BatchNorm1d(hidden_dim),\n",
        "            nn.ReLU(),\n",
        "            nn.Linear(hidden_dim, 1),\n",
        "            nn.Sigmoid(),\n",
        "        )\n",
        "    def forward(self, x):\n",
        "        pred = self.clf(x).squeeze(1)\n",
        "        return pred\n",
        "\n",
        "from torch.utils.data import DataLoader\n",
        "dataset = CustomDataset(seqs, hfs)\n",
        "collate_fn = Collator(len(types))\n",
        "dataloader = DataLoader(dataset, batch_size=64, collate_fn=collate_fn)\n",
        "clf = Classifier(len(types), 256)\n",
        "optimizer = torch.optim.Adam(clf.parameters(), 1e-3)\n",
        "loss_fn = nn.BCELoss()\n",
        "for epoch in range(10):\n",
        "    epoch_loss = 0\n",
        "    for (x,y) in dataloader:\n",
        "        optimizer.zero_grad()\n",
        "        pred = clf(x)\n",
        "        loss = loss_fn(pred, y)\n",
        "        loss.backward()\n",
        "        optimizer.step()\n",
        "        epoch_loss += loss.item()\n",
        "    print(f'epoch {epoch} training classifier loss {epoch_loss}')"
      ]
    },
    {
      "cell_type": "markdown",
      "id": "79522be5",
      "metadata": {
        "deletable": false,
        "editable": false,
        "id": "79522be5",
        "nbgrader": {
          "cell_type": "markdown",
          "checksum": "dddb1c43b876011df4fa8e95ea3cd540",
          "grade": false,
          "grade_id": "cell-9d81a6a977e2c7f4",
          "locked": true,
          "schema_version": 3,
          "solution": false,
          "task": false
        }
      },
      "source": [
        "Now let's generate synthetic records and test!"
      ]
    },
    {
      "cell_type": "code",
      "execution_count": 25,
      "id": "21518107",
      "metadata": {
        "deletable": false,
        "editable": false,
        "id": "21518107",
        "nbgrader": {
          "cell_type": "code",
          "checksum": "fad48eb3fe6af867e2610a4f2ec72f00",
          "grade": false,
          "grade_id": "cell-6b8a5ab56c24bcf2",
          "locked": true,
          "schema_version": 3,
          "solution": false,
          "task": false
        },
        "outputId": "36ea3943-fdfb-46a2-fab6-be9df39af41c",
        "colab": {
          "base_uri": "https://localhost:8080/"
        }
      },
      "outputs": [
        {
          "output_type": "stream",
          "name": "stdout",
          "text": [
            "generate 100 synthetic records with/without heart failure\n",
            "evaluate how much the generated synthetic records match the given condition:\n",
            "auc: 0.5611999999999999\n",
            "accuracy: 0.5600000023841858\n"
          ]
        }
      ],
      "source": [
        "print('generate 100 synthetic records with/without heart failure')\n",
        "y = torch.cat([torch.ones(50), torch.zeros(50)], 0)\n",
        "medgan.eval()\n",
        "with torch.no_grad():\n",
        "    x = medgan.generate(100, y)\n",
        "    pred = clf(x)\n",
        "\n",
        "\n",
        "print('evaluate how much the generated synthetic records match the given condition:')\n",
        "from sklearn.metrics import roc_auc_score\n",
        "auc = roc_auc_score(y.long().numpy(), pred.numpy())\n",
        "print('auc:', auc)\n",
        "\n",
        "pred[pred>0.5]=1\n",
        "pred[pred<=0.5]=0\n",
        "acc = (pred == y).float().mean().item()\n",
        "print('accuracy:', acc)"
      ]
    },
    {
      "cell_type": "markdown",
      "id": "17cd1cd4",
      "metadata": {
        "deletable": false,
        "editable": false,
        "id": "17cd1cd4",
        "nbgrader": {
          "cell_type": "markdown",
          "checksum": "2062fa31b0aa1a5a81aafc314994da7b",
          "grade": false,
          "grade_id": "cell-9668285bbf290d02",
          "locked": true,
          "schema_version": 3,
          "solution": false,
          "task": false
        }
      },
      "source": [
        "Since training a GAN model has long been \"random\", it is possible that the model doesn't perform so well.\n",
        "The reason might be\n",
        "\n",
        "(1) the training records are so small. Here only have 1000 records.\n",
        "\n",
        "(2) the conditional GAN does not capture the given condition well."
      ]
    }
  ],
  "metadata": {
    "colab": {
      "provenance": [],
      "toc_visible": true,
      "gpuType": "T4"
    },
    "illinois_payload": {
      "b64z": "",
      "nb_path": "release/HW5_MedGAN/HW5_MedGAN.ipynb"
    },
    "kernelspec": {
      "display_name": "Python 3",
      "name": "python3"
    },
    "language_info": {
      "codemirror_mode": {
        "name": "ipython",
        "version": 3
      },
      "file_extension": ".py",
      "mimetype": "text/x-python",
      "name": "python",
      "nbconvert_exporter": "python",
      "pygments_lexer": "ipython3",
      "version": "3.8.12"
    },
    "accelerator": "GPU"
  },
  "nbformat": 4,
  "nbformat_minor": 5
}